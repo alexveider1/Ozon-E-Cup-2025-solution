{
 "cells": [
  {
   "cell_type": "markdown",
   "id": "280a1c53-9000-4c6a-b954-dda45bddbb69",
   "metadata": {},
   "source": [
    "# Модель на основе CatboostClassifier (лучший результат на валидационной и тестовой выборках)"
   ]
  },
  {
   "cell_type": "code",
   "execution_count": 1,
   "id": "88c4338c-d78c-4219-b472-81b5f3d1f78f",
   "metadata": {},
   "outputs": [],
   "source": [
    "import warnings\n",
    "\n",
    "warnings.filterwarnings(\"ignore\")"
   ]
  },
  {
   "cell_type": "code",
   "execution_count": 7,
   "id": "5893f245-ea8b-4ba0-95dc-f77b61291bb5",
   "metadata": {},
   "outputs": [],
   "source": [
    "from _funcs import transform_frame, feature_creator, image_path\n",
    "\n",
    "from tqdm.notebook import tqdm\n",
    "\n",
    "import numpy as np\n",
    "import pandas as pd\n",
    "\n",
    "from catboost import CatBoostClassifier, Pool, cv\n",
    "\n",
    "import optuna\n",
    "from optuna.samplers import TPESampler\n",
    "\n",
    "from sklearn.model_selection import train_test_split\n",
    "from sklearn.metrics import classification_report\n",
    "from sklearn.feature_selection import f_classif"
   ]
  },
  {
   "cell_type": "code",
   "execution_count": 8,
   "id": "a42c72fa-68a8-4ae5-bae8-89b8073415eb",
   "metadata": {},
   "outputs": [
    {
     "ename": "FileNotFoundError",
     "evalue": "[Errno 2] No such file or directory: 'ml_ozon_counterfeit_train.csv'",
     "output_type": "error",
     "traceback": [
      "\u001b[31m---------------------------------------------------------------------------\u001b[39m",
      "\u001b[31mFileNotFoundError\u001b[39m                         Traceback (most recent call last)",
      "\u001b[36mCell\u001b[39m\u001b[36m \u001b[39m\u001b[32mIn[8]\u001b[39m\u001b[32m, line 1\u001b[39m\n\u001b[32m----> \u001b[39m\u001b[32m1\u001b[39m df = \u001b[43mpd\u001b[49m\u001b[43m.\u001b[49m\u001b[43mread_csv\u001b[49m\u001b[43m(\u001b[49m\u001b[33;43m'\u001b[39;49m\u001b[33;43mml_ozon_counterfeit_train.csv\u001b[39;49m\u001b[33;43m'\u001b[39;49m\u001b[43m,\u001b[49m\u001b[43m \u001b[49m\u001b[43mencoding\u001b[49m\u001b[43m=\u001b[49m\u001b[33;43m'\u001b[39;49m\u001b[33;43mutf-8\u001b[39;49m\u001b[33;43m'\u001b[39;49m\u001b[43m)\u001b[49m\n\u001b[32m      2\u001b[39m df_upd = feature_creator(transform_frame(df))\n\u001b[32m      3\u001b[39m df_upd.columns\n",
      "\u001b[36mFile \u001b[39m\u001b[32m~\\Downloads\\ozon\\Lib\\site-packages\\pandas\\io\\parsers\\readers.py:1026\u001b[39m, in \u001b[36mread_csv\u001b[39m\u001b[34m(filepath_or_buffer, sep, delimiter, header, names, index_col, usecols, dtype, engine, converters, true_values, false_values, skipinitialspace, skiprows, skipfooter, nrows, na_values, keep_default_na, na_filter, verbose, skip_blank_lines, parse_dates, infer_datetime_format, keep_date_col, date_parser, date_format, dayfirst, cache_dates, iterator, chunksize, compression, thousands, decimal, lineterminator, quotechar, quoting, doublequote, escapechar, comment, encoding, encoding_errors, dialect, on_bad_lines, delim_whitespace, low_memory, memory_map, float_precision, storage_options, dtype_backend)\u001b[39m\n\u001b[32m   1013\u001b[39m kwds_defaults = _refine_defaults_read(\n\u001b[32m   1014\u001b[39m     dialect,\n\u001b[32m   1015\u001b[39m     delimiter,\n\u001b[32m   (...)\u001b[39m\u001b[32m   1022\u001b[39m     dtype_backend=dtype_backend,\n\u001b[32m   1023\u001b[39m )\n\u001b[32m   1024\u001b[39m kwds.update(kwds_defaults)\n\u001b[32m-> \u001b[39m\u001b[32m1026\u001b[39m \u001b[38;5;28;01mreturn\u001b[39;00m \u001b[43m_read\u001b[49m\u001b[43m(\u001b[49m\u001b[43mfilepath_or_buffer\u001b[49m\u001b[43m,\u001b[49m\u001b[43m \u001b[49m\u001b[43mkwds\u001b[49m\u001b[43m)\u001b[49m\n",
      "\u001b[36mFile \u001b[39m\u001b[32m~\\Downloads\\ozon\\Lib\\site-packages\\pandas\\io\\parsers\\readers.py:620\u001b[39m, in \u001b[36m_read\u001b[39m\u001b[34m(filepath_or_buffer, kwds)\u001b[39m\n\u001b[32m    617\u001b[39m _validate_names(kwds.get(\u001b[33m\"\u001b[39m\u001b[33mnames\u001b[39m\u001b[33m\"\u001b[39m, \u001b[38;5;28;01mNone\u001b[39;00m))\n\u001b[32m    619\u001b[39m \u001b[38;5;66;03m# Create the parser.\u001b[39;00m\n\u001b[32m--> \u001b[39m\u001b[32m620\u001b[39m parser = \u001b[43mTextFileReader\u001b[49m\u001b[43m(\u001b[49m\u001b[43mfilepath_or_buffer\u001b[49m\u001b[43m,\u001b[49m\u001b[43m \u001b[49m\u001b[43m*\u001b[49m\u001b[43m*\u001b[49m\u001b[43mkwds\u001b[49m\u001b[43m)\u001b[49m\n\u001b[32m    622\u001b[39m \u001b[38;5;28;01mif\u001b[39;00m chunksize \u001b[38;5;129;01mor\u001b[39;00m iterator:\n\u001b[32m    623\u001b[39m     \u001b[38;5;28;01mreturn\u001b[39;00m parser\n",
      "\u001b[36mFile \u001b[39m\u001b[32m~\\Downloads\\ozon\\Lib\\site-packages\\pandas\\io\\parsers\\readers.py:1620\u001b[39m, in \u001b[36mTextFileReader.__init__\u001b[39m\u001b[34m(self, f, engine, **kwds)\u001b[39m\n\u001b[32m   1617\u001b[39m     \u001b[38;5;28mself\u001b[39m.options[\u001b[33m\"\u001b[39m\u001b[33mhas_index_names\u001b[39m\u001b[33m\"\u001b[39m] = kwds[\u001b[33m\"\u001b[39m\u001b[33mhas_index_names\u001b[39m\u001b[33m\"\u001b[39m]\n\u001b[32m   1619\u001b[39m \u001b[38;5;28mself\u001b[39m.handles: IOHandles | \u001b[38;5;28;01mNone\u001b[39;00m = \u001b[38;5;28;01mNone\u001b[39;00m\n\u001b[32m-> \u001b[39m\u001b[32m1620\u001b[39m \u001b[38;5;28mself\u001b[39m._engine = \u001b[38;5;28;43mself\u001b[39;49m\u001b[43m.\u001b[49m\u001b[43m_make_engine\u001b[49m\u001b[43m(\u001b[49m\u001b[43mf\u001b[49m\u001b[43m,\u001b[49m\u001b[43m \u001b[49m\u001b[38;5;28;43mself\u001b[39;49m\u001b[43m.\u001b[49m\u001b[43mengine\u001b[49m\u001b[43m)\u001b[49m\n",
      "\u001b[36mFile \u001b[39m\u001b[32m~\\Downloads\\ozon\\Lib\\site-packages\\pandas\\io\\parsers\\readers.py:1880\u001b[39m, in \u001b[36mTextFileReader._make_engine\u001b[39m\u001b[34m(self, f, engine)\u001b[39m\n\u001b[32m   1878\u001b[39m     \u001b[38;5;28;01mif\u001b[39;00m \u001b[33m\"\u001b[39m\u001b[33mb\u001b[39m\u001b[33m\"\u001b[39m \u001b[38;5;129;01mnot\u001b[39;00m \u001b[38;5;129;01min\u001b[39;00m mode:\n\u001b[32m   1879\u001b[39m         mode += \u001b[33m\"\u001b[39m\u001b[33mb\u001b[39m\u001b[33m\"\u001b[39m\n\u001b[32m-> \u001b[39m\u001b[32m1880\u001b[39m \u001b[38;5;28mself\u001b[39m.handles = \u001b[43mget_handle\u001b[49m\u001b[43m(\u001b[49m\n\u001b[32m   1881\u001b[39m \u001b[43m    \u001b[49m\u001b[43mf\u001b[49m\u001b[43m,\u001b[49m\n\u001b[32m   1882\u001b[39m \u001b[43m    \u001b[49m\u001b[43mmode\u001b[49m\u001b[43m,\u001b[49m\n\u001b[32m   1883\u001b[39m \u001b[43m    \u001b[49m\u001b[43mencoding\u001b[49m\u001b[43m=\u001b[49m\u001b[38;5;28;43mself\u001b[39;49m\u001b[43m.\u001b[49m\u001b[43moptions\u001b[49m\u001b[43m.\u001b[49m\u001b[43mget\u001b[49m\u001b[43m(\u001b[49m\u001b[33;43m\"\u001b[39;49m\u001b[33;43mencoding\u001b[39;49m\u001b[33;43m\"\u001b[39;49m\u001b[43m,\u001b[49m\u001b[43m \u001b[49m\u001b[38;5;28;43;01mNone\u001b[39;49;00m\u001b[43m)\u001b[49m\u001b[43m,\u001b[49m\n\u001b[32m   1884\u001b[39m \u001b[43m    \u001b[49m\u001b[43mcompression\u001b[49m\u001b[43m=\u001b[49m\u001b[38;5;28;43mself\u001b[39;49m\u001b[43m.\u001b[49m\u001b[43moptions\u001b[49m\u001b[43m.\u001b[49m\u001b[43mget\u001b[49m\u001b[43m(\u001b[49m\u001b[33;43m\"\u001b[39;49m\u001b[33;43mcompression\u001b[39;49m\u001b[33;43m\"\u001b[39;49m\u001b[43m,\u001b[49m\u001b[43m \u001b[49m\u001b[38;5;28;43;01mNone\u001b[39;49;00m\u001b[43m)\u001b[49m\u001b[43m,\u001b[49m\n\u001b[32m   1885\u001b[39m \u001b[43m    \u001b[49m\u001b[43mmemory_map\u001b[49m\u001b[43m=\u001b[49m\u001b[38;5;28;43mself\u001b[39;49m\u001b[43m.\u001b[49m\u001b[43moptions\u001b[49m\u001b[43m.\u001b[49m\u001b[43mget\u001b[49m\u001b[43m(\u001b[49m\u001b[33;43m\"\u001b[39;49m\u001b[33;43mmemory_map\u001b[39;49m\u001b[33;43m\"\u001b[39;49m\u001b[43m,\u001b[49m\u001b[43m \u001b[49m\u001b[38;5;28;43;01mFalse\u001b[39;49;00m\u001b[43m)\u001b[49m\u001b[43m,\u001b[49m\n\u001b[32m   1886\u001b[39m \u001b[43m    \u001b[49m\u001b[43mis_text\u001b[49m\u001b[43m=\u001b[49m\u001b[43mis_text\u001b[49m\u001b[43m,\u001b[49m\n\u001b[32m   1887\u001b[39m \u001b[43m    \u001b[49m\u001b[43merrors\u001b[49m\u001b[43m=\u001b[49m\u001b[38;5;28;43mself\u001b[39;49m\u001b[43m.\u001b[49m\u001b[43moptions\u001b[49m\u001b[43m.\u001b[49m\u001b[43mget\u001b[49m\u001b[43m(\u001b[49m\u001b[33;43m\"\u001b[39;49m\u001b[33;43mencoding_errors\u001b[39;49m\u001b[33;43m\"\u001b[39;49m\u001b[43m,\u001b[49m\u001b[43m \u001b[49m\u001b[33;43m\"\u001b[39;49m\u001b[33;43mstrict\u001b[39;49m\u001b[33;43m\"\u001b[39;49m\u001b[43m)\u001b[49m\u001b[43m,\u001b[49m\n\u001b[32m   1888\u001b[39m \u001b[43m    \u001b[49m\u001b[43mstorage_options\u001b[49m\u001b[43m=\u001b[49m\u001b[38;5;28;43mself\u001b[39;49m\u001b[43m.\u001b[49m\u001b[43moptions\u001b[49m\u001b[43m.\u001b[49m\u001b[43mget\u001b[49m\u001b[43m(\u001b[49m\u001b[33;43m\"\u001b[39;49m\u001b[33;43mstorage_options\u001b[39;49m\u001b[33;43m\"\u001b[39;49m\u001b[43m,\u001b[49m\u001b[43m \u001b[49m\u001b[38;5;28;43;01mNone\u001b[39;49;00m\u001b[43m)\u001b[49m\u001b[43m,\u001b[49m\n\u001b[32m   1889\u001b[39m \u001b[43m\u001b[49m\u001b[43m)\u001b[49m\n\u001b[32m   1890\u001b[39m \u001b[38;5;28;01massert\u001b[39;00m \u001b[38;5;28mself\u001b[39m.handles \u001b[38;5;129;01mis\u001b[39;00m \u001b[38;5;129;01mnot\u001b[39;00m \u001b[38;5;28;01mNone\u001b[39;00m\n\u001b[32m   1891\u001b[39m f = \u001b[38;5;28mself\u001b[39m.handles.handle\n",
      "\u001b[36mFile \u001b[39m\u001b[32m~\\Downloads\\ozon\\Lib\\site-packages\\pandas\\io\\common.py:882\u001b[39m, in \u001b[36mget_handle\u001b[39m\u001b[34m(path_or_buf, mode, encoding, compression, memory_map, is_text, errors, storage_options)\u001b[39m\n\u001b[32m    873\u001b[39m         handle = \u001b[38;5;28mopen\u001b[39m(\n\u001b[32m    874\u001b[39m             handle,\n\u001b[32m    875\u001b[39m             ioargs.mode,\n\u001b[32m   (...)\u001b[39m\u001b[32m    878\u001b[39m             newline=\u001b[33m\"\u001b[39m\u001b[33m\"\u001b[39m,\n\u001b[32m    879\u001b[39m         )\n\u001b[32m    880\u001b[39m     \u001b[38;5;28;01melse\u001b[39;00m:\n\u001b[32m    881\u001b[39m         \u001b[38;5;66;03m# Binary mode\u001b[39;00m\n\u001b[32m--> \u001b[39m\u001b[32m882\u001b[39m         handle = \u001b[38;5;28;43mopen\u001b[39;49m\u001b[43m(\u001b[49m\u001b[43mhandle\u001b[49m\u001b[43m,\u001b[49m\u001b[43m \u001b[49m\u001b[43mioargs\u001b[49m\u001b[43m.\u001b[49m\u001b[43mmode\u001b[49m\u001b[43m)\u001b[49m\n\u001b[32m    883\u001b[39m     handles.append(handle)\n\u001b[32m    885\u001b[39m \u001b[38;5;66;03m# Convert BytesIO or file objects passed with an encoding\u001b[39;00m\n",
      "\u001b[31mFileNotFoundError\u001b[39m: [Errno 2] No such file or directory: 'ml_ozon_counterfeit_train.csv'"
     ]
    }
   ],
   "source": [
    "df = pd.read_csv('ml_ozon_counterfeit_train.csv', encoding='utf-8')\n",
    "df_upd = feature_creator(transform_frame(df))\n",
    "df_upd.columns"
   ]
  },
  {
   "cell_type": "code",
   "execution_count": 9,
   "id": "ab63c648-b1b4-4ac8-928b-3c91880a0b32",
   "metadata": {},
   "outputs": [
    {
     "ename": "NameError",
     "evalue": "name 'df_upd' is not defined",
     "output_type": "error",
     "traceback": [
      "\u001b[31m---------------------------------------------------------------------------\u001b[39m",
      "\u001b[31mNameError\u001b[39m                                 Traceback (most recent call last)",
      "\u001b[36mCell\u001b[39m\u001b[36m \u001b[39m\u001b[32mIn[9]\u001b[39m\u001b[32m, line 1\u001b[39m\n\u001b[32m----> \u001b[39m\u001b[32m1\u001b[39m cr = \u001b[43mdf_upd\u001b[49m.drop(columns = [\u001b[33m\"\u001b[39m\u001b[33mbrand_name\u001b[39m\u001b[33m\"\u001b[39m, \u001b[33m\"\u001b[39m\u001b[33mdescription\u001b[39m\u001b[33m\"\u001b[39m, \u001b[33m\"\u001b[39m\u001b[33mname_rus\u001b[39m\u001b[33m\"\u001b[39m, \u001b[33m\"\u001b[39m\u001b[33mCommercialTypeName4\u001b[39m\u001b[33m\"\u001b[39m]).corr() \u001b[38;5;66;03m# [\"resolution\"].sort_values(ascending=False, key=abs)\u001b[39;00m\n\u001b[32m      2\u001b[39m plt.figure(figsize=(\u001b[32m10\u001b[39m, \u001b[32m8\u001b[39m))\n\u001b[32m      3\u001b[39m sns.heatmap(cr, annot=\u001b[38;5;28;01mFalse\u001b[39;00m, cmap=\u001b[33m'\u001b[39m\u001b[33mcoolwarm\u001b[39m\u001b[33m'\u001b[39m, center=\u001b[32m0\u001b[39m)\n",
      "\u001b[31mNameError\u001b[39m: name 'df_upd' is not defined"
     ]
    }
   ],
   "source": [
    "cr = df_upd.drop(columns = [\"brand_name\", \"description\", \"name_rus\", \"CommercialTypeName4\"]).corr()\n",
    "plt.figure(figsize=(10, 8))\n",
    "sns.heatmap(cr, annot=False, cmap='coolwarm', center=0)\n",
    "plt.title('Correlation Heatmap')\n",
    "plt.tight_layout()\n",
    "plt.show()"
   ]
  },
  {
   "cell_type": "code",
   "execution_count": null,
   "id": "83f0db6a-e661-49db-867e-304a19dbd61b",
   "metadata": {},
   "outputs": [],
   "source": [
    "# X - ваши фичи, y - таргет\n",
    "X = df_upd.drop(columns = [\"brand_name\", \"description\", \"name_rus\", \"CommercialTypeName4\", \"resolution\"])\n",
    "y = df_upd[\"resolution\"]\n",
    "\n",
    "# Вычисляем F-статистику и p-values\n",
    "f_scores, p_values = f_classif(X, y)\n",
    "\n",
    "# Создаем DataFrame для наглядности\n",
    "f_test_df = pd.DataFrame({\n",
    "    'feature': X.columns.tolist(),\n",
    "    'f_score': f_scores,\n",
    "    'p_value': p_values\n",
    "}).sort_values('f_score', ascending=False)\n",
    "\n",
    "print(f_test_df)"
   ]
  },
  {
   "cell_type": "code",
   "execution_count": null,
   "id": "ea66d16f-4955-46d2-8543-c7b6b94059f9",
   "metadata": {},
   "outputs": [],
   "source": [
    "cats = [\"brand_name\", \"CommercialTypeName4\", \"SellerID\"]\n",
    "texts = [\"description\", \"name_rus\"]\n",
    "\n",
    "# Отделяем фичи и таргет\n",
    "X = df_upd.drop(columns=[\"resolution\", \"comments_published_count\", \"rating_amount\", \"videos_published_count\", \"name_excl_quest_count\", \"photos_published_count\", \n",
    "                         \"name_length\"])\n",
    "y = df_upd[\"resolution\"]\n",
    "\n",
    "# Разделяем train/test (например, 80/20)\n",
    "X_train, X_temp, y_train, y_temp = train_test_split(\n",
    "    X, y, test_size=0.2, random_state=567, stratify=y\n",
    ")\n",
    "X_val, X_test, y_val, y_test = train_test_split(\n",
    "    X_temp, y_temp, test_size=0.5, random_state=112, stratify=y_temp\n",
    ")"
   ]
  },
  {
   "cell_type": "code",
   "execution_count": null,
   "id": "705e4451-e996-4d17-b223-347df59cddc6",
   "metadata": {},
   "outputs": [],
   "source": [
    "train_pool = Pool(X_train, y_train, cat_features=cats, text_features=texts)\n",
    "val_pool   = Pool(X_val, y_val, cat_features=cats, text_features=texts)\n",
    "test_pool = Pool(X_test, cat_features=cats, text_features=texts)\n",
    "temp_pool = Pool(X_temp, cat_features=cats, text_features=texts)"
   ]
  },
  {
   "cell_type": "code",
   "execution_count": null,
   "id": "235b47db-9896-4cfc-87b2-3525bd61b28e",
   "metadata": {},
   "outputs": [],
   "source": [
    "# Параметры для кросс-валидации\n",
    "parameters = {\n",
    "    'iterations': 1000,\n",
    "    'learning_rate': 0.03,\n",
    "    'depth': 6,\n",
    "    'l2_leaf_reg': 3,\n",
    "    'random_strength': 1,\n",
    "    'bagging_temperature': 0.8,\n",
    "    'border_count': 254,\n",
    "    'loss_function': 'Logloss',\n",
    "    'eval_metric': 'F1',\n",
    "    'random_seed': 42,\n",
    "    'verbose': False,\n",
    "    'early_stopping_rounds': 50\n",
    "}\n",
    "\n",
    "# Кросс-валидация\n",
    "cv_data = cv(\n",
    "    pool=train_pool,\n",
    "    params=parameters,\n",
    "    fold_count=5,  # 5-fold cross-validation\n",
    "    shuffle=True,\n",
    "    stratified=True,\n",
    "    partition_random_seed=42,\n",
    "    plot=False\n",
    ")\n",
    "\n",
    "# Лучший результат кросс-валидации\n",
    "best_f1 = cv_data['test-F1-mean'].max()\n",
    "print(f\"Best CV F1-score: {best_f1}\")"
   ]
  },
  {
   "cell_type": "code",
   "execution_count": null,
   "id": "d83290e4-20e5-4569-8977-17bd6fd5f1dc",
   "metadata": {},
   "outputs": [],
   "source": [
    "def objective(trial):\n",
    "    parameters_opt = {\n",
    "        'iterations': trial.suggest_int('iterations', 500, 2000),\n",
    "        'learning_rate': trial.suggest_float('learning_rate', 0.01, 0.3, log=True),\n",
    "        'depth': trial.suggest_int('depth', 4, 10),\n",
    "        'l2_leaf_reg': trial.suggest_float('l2_leaf_reg', 1, 10),\n",
    "        'random_strength': trial.suggest_float('random_strength', 0.5, 2),\n",
    "        'bagging_temperature': trial.suggest_float('bagging_temperature', 0, 1),\n",
    "        'grow_policy': trial.suggest_categorical('grow_policy', ['SymmetricTree', 'Depthwise', 'Lossguide']),\n",
    "        'min_data_in_leaf': trial.suggest_int('min_data_in_leaf', 1, 100),\n",
    "        'early_stopping_rounds': 50,\n",
    "        'verbose': False,\n",
    "        'random_seed': 42,\n",
    "        'eval_metric': 'F1',\n",
    "        'loss_function': 'Logloss'\n",
    "    }\n",
    "\n",
    "    model = CatBoostClassifier(**parameters_opt)\n",
    "    model.fit(\n",
    "        train_pool,\n",
    "        eval_set=val_pool,\n",
    "        use_best_model=True,\n",
    "        verbose=False\n",
    "    )\n",
    "\n",
    "    y_pred = model.predict(X_val)\n",
    "    return f1_score(y_val, y_pred)\n",
    "\n",
    "# Оптимизация гиперпараметров\n",
    "study = optuna.create_study(direction='maximize', sampler=TPESampler(seed=42))\n",
    "study.optimize(objective, n_trials=15, timeout=7200)  # 50 trials или 1 час\n",
    "\n",
    "print(\"Best parameters:\", study.best_params)\n",
    "print(\"Best F1-score:\", study.best_value)"
   ]
  },
  {
   "cell_type": "code",
   "execution_count": 10,
   "id": "0ee2893f-6927-421b-bf8c-44bcfad2b93f",
   "metadata": {},
   "outputs": [
    {
     "ename": "SyntaxError",
     "evalue": "invalid syntax (1490868151.py, line 26)",
     "output_type": "error",
     "traceback": [
      "  \u001b[36mCell\u001b[39m\u001b[36m \u001b[39m\u001b[32mIn[10]\u001b[39m\u001b[32m, line 26\u001b[39m\n\u001b[31m    \u001b[39m\u001b[31mprint(class)\u001b[39m\n          ^\n\u001b[31mSyntaxError\u001b[39m\u001b[31m:\u001b[39m invalid syntax\n"
     ]
    }
   ],
   "source": [
    "# Лучшие параметры из подбора\n",
    "best_params = study.best_params\n",
    "best_params.update({\n",
    "    'loss_function': 'Logloss',\n",
    "    'eval_metric': 'F1',\n",
    "    'random_seed': 42,\n",
    "    'early_stopping_rounds': 50,\n",
    "    'use_best_model': True\n",
    "})\n",
    "\n",
    "# Финальная модель\n",
    "final_model = CatBoostClassifier(**best_params)\n",
    "final_model.fit(\n",
    "    train_pool,\n",
    "    eval_set=val_pool,\n",
    "    verbose=100,\n",
    "    # plot=True\n",
    ")\n",
    "\n",
    "# Оценка на тестовой выборке\n",
    "y_pred_train = final_model.predict(train_pool)\n",
    "y_pred_test = final_model.predict(test_pool)\n",
    "\n",
    "print(classification_report(y_train, y_pred_train))\n",
    "print()\n",
    "print(classification_report(y_test, y_pred_test))\n",
    "\n",
    "# Предсказание вероятностей\n",
    "y_pred_proba = final_model.predict_proba(test_pool)[:, 1]"
   ]
  },
  {
   "cell_type": "code",
   "execution_count": null,
   "id": "02d4ba7d-81f1-44f6-93b9-5610a47e4244",
   "metadata": {},
   "outputs": [],
   "source": [
    "grid = {\n",
    "    \"iterations\": [1000],\n",
    "    \"depth\": [6, 8, 10],\n",
    "    \"learning_rate\": [0.03, 0.1, 0.2],\n",
    "    \"l2_leaf_reg\": [3, 5, 7],\n",
    "    \"bagging_temperature\": [0, 1, 5],\n",
    "}\n",
    "\n",
    "model = CatBoostClassifier(\n",
    "    loss_function=\"Logloss\",\n",
    "    eval_metric=\"F1\",\n",
    "    class_weights=class_weights,\n",
    "    random_seed=343,\n",
    "    verbose=200\n",
    ")\n",
    "\n",
    "grid_search_result = model.grid_search(grid, train_pool, cv=3, stratified=True, shuffle=True, verbose = True)"
   ]
  },
  {
   "cell_type": "code",
   "execution_count": null,
   "id": "a722c995-4a65-429c-8406-3ec8ed9b3cfb",
   "metadata": {},
   "outputs": [],
   "source": [
    "model = CatBoostClassifier(eval_metric='F1')\n",
    "model.fit(train_pool, eval_set=val_pool, verbose=100, use_best_model=True)"
   ]
  },
  {
   "cell_type": "code",
   "execution_count": null,
   "id": "8070f9fd-1bc1-4ee0-ab79-0ce3ed65294d",
   "metadata": {},
   "outputs": [],
   "source": [
    "pred_train = model.predict(train_pool)\n",
    "pred_test = model.predict(test_pool)\n",
    "\n",
    "print(classification_report(y_train, pred_train))\n",
    "print()\n",
    "print(classification_report(y_test, pred_test))"
   ]
  },
  {
   "cell_type": "code",
   "execution_count": null,
   "id": "49b7bf65-b715-401a-bf37-9f4de1703a71",
   "metadata": {},
   "outputs": [],
   "source": [
    "dfa = pd.read_csv('ml_ozon_сounterfeit_test.csv', encoding='utf-8')"
   ]
  },
  {
   "cell_type": "code",
   "execution_count": null,
   "id": "3197c954-b9e2-440b-923d-6ba60281e78e",
   "metadata": {},
   "outputs": [],
   "source": [
    "dfa_upd = feature_creator(transform_frame(dfa))"
   ]
  },
  {
   "cell_type": "code",
   "execution_count": null,
   "id": "3f42d23e-63e1-452f-b312-a666564a16c6",
   "metadata": {},
   "outputs": [],
   "source": [
    "old_price = df_upd[\"PriceDiscounted\"].mean()\n",
    "new_price = dfa_upd[\"PriceDiscounted\"].mean()\n",
    "dfa_upd[\"PriceDiscounted\"] = dfa_upd[\"PriceDiscounted\"]*old_price/new_price"
   ]
  },
  {
   "cell_type": "code",
   "execution_count": null,
   "id": "af4a560e-4ae8-4c17-adfe-c10ded7bb05b",
   "metadata": {},
   "outputs": [],
   "source": [
    "Xts = dfa_upd.drop(columns=[\"comments_published_count\", \"rating_amount\", \"videos_published_count\", \"name_excl_quest_count\", \"photos_published_count\", \n",
    "                         \"name_length\"])\n",
    "test_pool_new = Pool(Xts, cat_features=cats, text_features=texts)"
   ]
  },
  {
   "cell_type": "code",
   "execution_count": null,
   "id": "47b84659-1e89-426e-a4b6-66dcfc427215",
   "metadata": {},
   "outputs": [],
   "source": [
    "pred_test_new = model.predict(test_pool_new)"
   ]
  },
  {
   "cell_type": "code",
   "execution_count": null,
   "id": "fd787a34-71bb-4458-9f62-88342dc1239b",
   "metadata": {},
   "outputs": [],
   "source": [
    "write = pd.DataFrame()\n",
    "write[\"id\"] = dfa[\"id\"]\n",
    "write[\"prediction\"] = pred_test_new\n",
    "write.to_csv('example.csv', index=False)"
   ]
  },
  {
   "cell_type": "code",
   "execution_count": null,
   "id": "a80f8de8-00a2-445d-a340-d3090d1a7f83",
   "metadata": {},
   "outputs": [],
   "source": [
    "write[\"prediction\"].sum()/len(write)"
   ]
  },
  {
   "cell_type": "code",
   "execution_count": null,
   "id": "e1d0baf1-ab51-4ae2-b8b8-89b82f873d3c",
   "metadata": {},
   "outputs": [],
   "source": [
    "probs_final =  model.predict_proba(test_pool_new)[:, 1]\n",
    "\n",
    "custom_threshold = 0.45\n",
    "\n",
    "custom_predictions_final = (probs_final >= custom_threshold).astype(int)"
   ]
  },
  {
   "cell_type": "code",
   "execution_count": null,
   "id": "66544424-0e10-4fae-b0f1-930b23ccb49e",
   "metadata": {},
   "outputs": [],
   "source": [
    "write = pd.DataFrame()\n",
    "write[\"id\"] = dfa[\"id\"]\n",
    "write[\"prediction\"] = custom_predictions_final\n",
    "write.to_csv('examplenew.csv', index=False)"
   ]
  },
  {
   "cell_type": "code",
   "execution_count": null,
   "id": "9993e7a6-17d5-4e06-9d8f-bf17ce89edb6",
   "metadata": {},
   "outputs": [],
   "source": [
    "write[\"prediction\"].sum()/len(write)"
   ]
  },
  {
   "cell_type": "code",
   "execution_count": null,
   "id": "133f9c2d-261d-40b1-ba46-d237c10121be",
   "metadata": {},
   "outputs": [],
   "source": [
    "df[\"PriceDiscounted\"].mean(), dfa[\"PriceDiscounted\"].mean()"
   ]
  },
  {
   "cell_type": "code",
   "execution_count": null,
   "id": "ee6d5377-ed77-4772-aa94-9fc7ef9d1b89",
   "metadata": {},
   "outputs": [],
   "source": []
  }
 ],
 "metadata": {
  "kernelspec": {
   "display_name": "Python 3 (ipykernel)",
   "language": "python",
   "name": "python3"
  },
  "language_info": {
   "codemirror_mode": {
    "name": "ipython",
    "version": 3
   },
   "file_extension": ".py",
   "mimetype": "text/x-python",
   "name": "python",
   "nbconvert_exporter": "python",
   "pygments_lexer": "ipython3",
   "version": "3.12.9"
  }
 },
 "nbformat": 4,
 "nbformat_minor": 5
}
